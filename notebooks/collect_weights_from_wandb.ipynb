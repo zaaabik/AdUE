{
 "cells": [
  {
   "cell_type": "code",
   "execution_count": null,
   "id": "490d2f6a-b78e-42bc-9804-9e5ea124eed2",
   "metadata": {},
   "outputs": [],
   "source": [
    "1+1"
   ]
  },
  {
   "cell_type": "code",
   "execution_count": null,
   "id": "454f1ae9-9c4d-4fca-88e5-5bcb57082586",
   "metadata": {},
   "outputs": [],
   "source": [
    "import os\n",
    "import sys\n",
    "import pandas as pd\n",
    "import torch\n",
    "import sys\n",
    "from tqdm import tqdm"
   ]
  },
  {
   "cell_type": "code",
   "execution_count": null,
   "id": "e29da1bc-e1fc-4d2e-83fc-68ae8718e1ee",
   "metadata": {},
   "outputs": [],
   "source": [
    "import rootutils\n",
    "\n",
    "rootutils.setup_root('.', indicator=\".project-root\", pythonpath=True)\n",
    "from experiment_analysis.utils import flatten_dataframe, get_wandb_table"
   ]
  },
  {
   "cell_type": "code",
   "execution_count": null,
   "id": "10fdf3ea-ec88-412b-98a0-1c11b445eb66",
   "metadata": {},
   "outputs": [],
   "source": [
    "BASE_WEIGHT_PATH = os.environ['BASE_WEIGHT_PATH']"
   ]
  },
  {
   "cell_type": "code",
   "execution_count": null,
   "id": "0f404b77-4602-4ef1-8f82-388b2d5ac4a5",
   "metadata": {},
   "outputs": [],
   "source": [
    "os.makedirs(BASE_WEIGHT_PATH, exist_ok=True)"
   ]
  },
  {
   "cell_type": "code",
   "execution_count": null,
   "id": "c20c79a3-0ea3-40ec-bb8e-a508ab64e28d",
   "metadata": {},
   "outputs": [],
   "source": [
    "USER_NAME = 'zaabik'"
   ]
  },
  {
   "cell_type": "code",
   "execution_count": null,
   "id": "779dbe67-e1a0-4f72-acd7-4417ad0d3d1b",
   "metadata": {},
   "outputs": [],
   "source": [
    "sst2_table = flatten_dataframe(get_wandb_table(USER_NAME, 'uncertainty-estimation-sr-ft-sst2'))\n",
    "sst5_table = flatten_dataframe(get_wandb_table(USER_NAME, 'uncertainty-estimation-sr-ft-sst5'))\n",
    "cola_table = flatten_dataframe(get_wandb_table(USER_NAME, 'uncertainty-estimation-sr-ft-cola'))\n",
    "toxigen_table = flatten_dataframe(get_wandb_table(USER_NAME, 'uncertainty-estimation-sr-ft-toxigen'))\n",
    "newsgroups_table = flatten_dataframe(get_wandb_table(USER_NAME, 'uncertainty-estimation-sr-ft-newsgroups'))"
   ]
  },
  {
   "cell_type": "code",
   "execution_count": null,
   "id": "a594980c-75fa-4248-accc-d670134ddf09",
   "metadata": {},
   "outputs": [],
   "source": [
    "ckpt_callback_name = \"ModelCheckpoint{'monitor': 'val/acc', 'mode': 'max', 'every_n_train_steps': 0, 'every_n_epochs': 1, 'train_time_interval': None}\""
   ]
  },
  {
   "cell_type": "code",
   "execution_count": null,
   "id": "ed7385fd-77ee-49c6-ba8a-3d5cd7309ad7",
   "metadata": {},
   "outputs": [],
   "source": [
    "def get_final_path(path):\n",
    "    path = path + '/last.ckpt'\n",
    "    ckpt = torch.load(path)\n",
    "    path = ckpt['callbacks'][ckpt_callback_name]['best_model_path']\n",
    "    epoch = path.split('epoch_')[1].split('.')[0]\n",
    "    new_path = '/'.join(path.split('/')[:-1])\n",
    "    return new_path + '/' + f'adapter_epoch_{epoch}'"
   ]
  },
  {
   "cell_type": "code",
   "execution_count": null,
   "id": "85e3f936-ddc7-46f4-862f-34dfbbf5b7a8",
   "metadata": {},
   "outputs": [],
   "source": [
    "total_table = pd.concat([sst2_table, sst5_table, cola_table, toxigen_table,newsgroups_table]).reset_index(drop=True)\n",
    "total_table = total_table[~total_table['test/acc'].isnull()]\n",
    "total_table['dataset_name'] = total_table['data/dataset/_target_'].apply(lambda x: x.split('.')[-1]).values\n",
    "total_table['best_ckpt_path'] = total_table['callbacks/model_checkpoint/dirpath'].apply(get_final_path)\n",
    "total_table = total_table.sort_values(['dataset_name', 'base_architecture', 'seed'])#[['dataset_name', 'base_architecture']]\n",
    "total_table['seed_number'] = total_table.groupby(['dataset_name', 'base_architecture']).cumcount()\n",
    "total_table = total_table.reset_index(drop=True)"
   ]
  },
  {
   "cell_type": "code",
   "execution_count": null,
   "id": "9b929ac4-1867-4098-8bea-ea4bfea89ad5",
   "metadata": {},
   "outputs": [],
   "source": [
    "all_runs = total_table.drop_duplicates(['base_architecture', 'dataset_name', 'seed']).groupby(['base_architecture', 'dataset_name'])[['name']].count()"
   ]
  },
  {
   "cell_type": "code",
   "execution_count": null,
   "id": "575b2a01-4b62-46a2-88e4-31947350a3f9",
   "metadata": {},
   "outputs": [],
   "source": [
    "total_table.drop_duplicates(['base_architecture', 'dataset_name', 'seed']).groupby(['base_architecture', 'dataset_name'])[['name']].count()"
   ]
  },
  {
   "cell_type": "code",
   "execution_count": null,
   "id": "decc3fed-f440-439a-885d-b863f8bb03e0",
   "metadata": {},
   "outputs": [],
   "source": [
    "t = total_table.drop_duplicates(['base_architecture', 'dataset_name', 'seed'])"
   ]
  },
  {
   "cell_type": "code",
   "execution_count": null,
   "id": "229d8ba0-058a-4926-a071-770c08f5812e",
   "metadata": {},
   "outputs": [],
   "source": [
    "assert len(all_runs[\n",
    "    all_runs['name'] != 5\n",
    "]) == 0"
   ]
  },
  {
   "cell_type": "code",
   "execution_count": null,
   "id": "d5a654b2-e987-4ea5-abd8-a4d9e3e3ec1a",
   "metadata": {},
   "outputs": [],
   "source": [
    "model_name_mapping = {\n",
    "    'Qwen/Qwen2.5-7B' : 'qwen_runs_seeds',\n",
    "    'google/electra-base-discriminator' : 'electra_runs_seeds',\n",
    "    'meta-llama/Llama-2-7b-hf' : 'llama_runs_seeds',\n",
    "    'roberta-base' : 'roberta_runs_seeds',\n",
    "}"
   ]
  },
  {
   "cell_type": "code",
   "execution_count": null,
   "id": "7d79c4e8-e452-4b47-8766-eb6a1dc4c6ec",
   "metadata": {},
   "outputs": [],
   "source": [
    "import os"
   ]
  },
  {
   "cell_type": "code",
   "execution_count": null,
   "id": "548895c5-43e6-4e09-82e6-1515b8d3d065",
   "metadata": {},
   "outputs": [],
   "source": [
    "copy_to = BASE_WEIGHT_PATH + total_table['base_architecture'].map(model_name_mapping) +'/'+ total_table['dataset_name'] + '/' + total_table['seed_number'].astype(str)\n",
    "copy_from = total_table['best_ckpt_path'] + '/*'\n",
    "full_command = 'cp ' + copy_from + ' '+ copy_to"
   ]
  },
  {
   "cell_type": "code",
   "execution_count": null,
   "id": "e44b3bfe-b0b6-4b3f-9f5b-e755748e6601",
   "metadata": {
    "scrolled": true
   },
   "outputs": [],
   "source": [
    "for path in copy_to:\n",
    "    try:\n",
    "        os.makedirs(path)\n",
    "    except:\n",
    "        print(path)"
   ]
  },
  {
   "cell_type": "code",
   "execution_count": null,
   "id": "cca91d1c-d1fa-416d-a6af-2bbaee52a327",
   "metadata": {
    "scrolled": true
   },
   "outputs": [],
   "source": [
    "for command in tqdm(full_command):\n",
    "    os.system(command)"
   ]
  }
 ],
 "metadata": {
  "kernelspec": {
   "display_name": "uncertainty_estimation",
   "language": "python",
   "name": "uncertainty_estimation"
  },
  "language_info": {
   "codemirror_mode": {
    "name": "ipython",
    "version": 3
   },
   "file_extension": ".py",
   "mimetype": "text/x-python",
   "name": "python",
   "nbconvert_exporter": "python",
   "pygments_lexer": "ipython3",
   "version": "3.10.15"
  }
 },
 "nbformat": 4,
 "nbformat_minor": 5
}
