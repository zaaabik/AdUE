{
 "cells": [
  {
   "cell_type": "code",
   "execution_count": null,
   "id": "395cc880-ac4d-467f-98fc-35c8f12741aa",
   "metadata": {},
   "outputs": [],
   "source": [
    "import pandas as pd\n",
    "from glob import glob\n",
    "import numpy as np"
   ]
  },
  {
   "cell_type": "code",
   "execution_count": null,
   "id": "f13165db-54e6-402d-9aec-b0ecc00c178b",
   "metadata": {},
   "outputs": [],
   "source": [
    "all_results = glob('../max_probe_fine_tune_seeds/results/*/*.csv')\n",
    "all_baseline_paths = glob('../baseline_eval_seeds/results/*/*.csv')\n",
    "len(all_results), len(all_baseline_paths)"
   ]
  },
  {
   "cell_type": "code",
   "execution_count": null,
   "id": "202790df-91d0-4a12-ae3a-280f4de76d8a",
   "metadata": {},
   "outputs": [],
   "source": [
    "our_method = 'AdUE (OUR)'\n",
    "\n",
    "columns_name_mapping = {\n",
    "    'w/o l2 norm | md_relative_roc_auc' : 'RMD',\n",
    "    'l2 norm | md_relative_roc_auc' : 'RMD l2 norm',\n",
    "\n",
    "    'w/o l2 norm | md_roc_auc' : 'MD',\n",
    "    'l2 norm | md_roc_auc' : 'MD l2 norm',\n",
    "\n",
    "    'w/o l2 norm | rde_n_components_256_roc_auc' : 'RDE',\n",
    "    'l2 norm | rde_n_components_256_roc_auc' : 'RDE l2 norm',\n",
    "    \n",
    "    'l2 norm | test-base-max-prob-roc-auc': 'SR',\n",
    "    \n",
    "    'ablation_bce' : 'Loss: BCE',\n",
    "    'ablation_bce_l2sp' : 'Loss: BCE+L2SP',\n",
    "    'ablation_bce_reg' : 'Loss: BCE+reg',\n",
    "    'all_reg' : 'Loss: BCE+reg+L2SP',\n",
    "    'ablation_cls_random' : 'Full loss + rand cls',\n",
    "    'ablation_linear_random' : 'Full loss + random linear',\n",
    "    'full' : 'AdUE (OUR)',\n",
    "    'test-fine-tune-max-prob-roc-auc' : 'AdUE (OUR)',\n",
    "}\n"
   ]
  },
  {
   "cell_type": "code",
   "execution_count": null,
   "id": "51fcf88c-8b14-488c-8bc5-8e83c19f3076",
   "metadata": {},
   "outputs": [],
   "source": [
    "baseline_columns = [\n",
    "    'w/o l2 norm | md_relative_roc_auc', \n",
    "    'l2 norm | md_relative_roc_auc',\n",
    "\n",
    "    'w/o l2 norm | md_roc_auc',\n",
    "    'l2 norm | md_roc_auc',\n",
    "\n",
    "    'w/o l2 norm | rde_n_components_256_roc_auc',\n",
    "    'l2 norm | rde_n_components_256_roc_auc',\n",
    "    \n",
    "    'l2 norm | test-base-max-prob-roc-auc'\n",
    "]"
   ]
  },
  {
   "cell_type": "code",
   "execution_count": null,
   "id": "81d2ead4-4914-4981-a60f-b7ac499e8e5f",
   "metadata": {},
   "outputs": [],
   "source": [
    "model_name_mapping = {\n",
    "    'Qwen/Qwen2.5-7B' : 'Qwen',\n",
    "    'google/electra-base-discriminator' : 'Electra',\n",
    "    'meta-llama/Llama-2-7b-hf' : 'LLama',\n",
    "    'roberta-base' : 'Roberta'\n",
    "}\n",
    "\n",
    "dataset_name_mapping = {\n",
    "    '20newsgroups' : 'News',\n",
    "    'cola' : 'Cola',\n",
    "    'SST2' : 'SST2',\n",
    "    'SST5' : 'SST5',\n",
    "    'toxigen' : 'Toxigen',\n",
    "}"
   ]
  },
  {
   "cell_type": "code",
   "execution_count": null,
   "id": "98ae9515-0852-4251-9a1e-4258d18dd636",
   "metadata": {},
   "outputs": [],
   "source": [
    "all_dfs = []\n",
    "for path in all_results:\n",
    "    all_dfs.append(pd.read_csv(path))\n",
    "all_dfs = pd.concat(all_dfs).reset_index(drop=True)\n",
    "all_dfs = all_dfs.rename(columns_name_mapping, axis='columns')\n",
    "all_dfs['model'] = all_dfs['model'].map(model_name_mapping)\n",
    "all_dfs['dataset'] = all_dfs['dataset'].map(dataset_name_mapping)\n",
    "all_dfs = all_dfs.rename(columns_name_mapping, axis='columns')\n"
   ]
  },
  {
   "cell_type": "code",
   "execution_count": null,
   "id": "189f54bc-769a-4413-b166-bd57a66b73e4",
   "metadata": {},
   "outputs": [],
   "source": [
    "baseline_columns = ['md_marginal_roc_auc', 'md_roc_auc', 'md_relative_roc_auc', 'rde_n_components_256_roc_auc', 'test-base-max-prob-roc-auc']"
   ]
  },
  {
   "cell_type": "code",
   "execution_count": null,
   "id": "f6aa16bd-0f18-4ba3-8d92-9be1e01db407",
   "metadata": {},
   "outputs": [],
   "source": [
    "all_baselines = []\n",
    "for path in all_baseline_paths:\n",
    "    all_baselines.append(pd.read_csv(path))\n",
    "all_baselines = pd.concat(all_baselines).reset_index(drop=True)\n",
    "\n",
    "\n",
    "all_baselines = all_baselines.pivot(\n",
    "    index=['model', 'dataset', 'seed', 'train_on_dataset'], \n",
    "    columns='normalization', \n",
    "    values=baseline_columns\n",
    ").rename({\n",
    "    True : 'l2 norm',\n",
    "    False : 'w/o l2 norm',\n",
    "}, axis='columns')\n",
    "\n",
    "all_baselines = all_baselines.swaplevel(0,1, axis='columns')\n",
    "all_baselines = all_baselines.sort_index(axis=1)\n",
    "\n",
    "all_baselines.columns = all_baselines.columns.map(' | '.join).str.strip('|')\n",
    "all_baselines = all_baselines.reset_index().rename(columns_name_mapping, axis='columns')\n",
    "all_baselines['model'] = all_baselines['model'].map(model_name_mapping)\n",
    "all_baselines['dataset'] = all_baselines['dataset'].map(dataset_name_mapping)"
   ]
  },
  {
   "cell_type": "code",
   "execution_count": null,
   "id": "b83a7292-5901-45dd-97ec-b2a7de23c311",
   "metadata": {},
   "outputs": [],
   "source": [
    "all_dfs = all_dfs[all_dfs['train_on_dataset'] == 'train']\n",
    "all_baselines = all_baselines[all_baselines['train_on_dataset'] == 'train']"
   ]
  },
  {
   "cell_type": "code",
   "execution_count": null,
   "id": "dc5cab37-e8ce-4cf9-b180-bd70c4a1a60c",
   "metadata": {},
   "outputs": [],
   "source": [
    "columns_to_join_results = ['model', 'dataset', 'seed']\n",
    "columns_to_gb = ['model', 'dataset']"
   ]
  },
  {
   "cell_type": "code",
   "execution_count": null,
   "id": "62567985-04ed-4f7a-b250-681cddaac3dd",
   "metadata": {},
   "outputs": [],
   "source": [
    "assert len(all_results) == 700\n",
    "assert len(all_baseline_paths) == 200"
   ]
  },
  {
   "cell_type": "code",
   "execution_count": null,
   "id": "bf672543-4da6-40c0-83f3-adf16dca1f4b",
   "metadata": {},
   "outputs": [],
   "source": [
    "t = all_dfs.groupby(['model', 'dataset', 'grid'])[['adapter']].count()\n",
    "assert len(t[t['adapter'] != 5]) == 0"
   ]
  },
  {
   "cell_type": "code",
   "execution_count": null,
   "id": "d7e02e77-d513-4b6f-833b-76afd20d1776",
   "metadata": {
    "scrolled": true
   },
   "outputs": [],
   "source": [
    "all_dfs = all_dfs.pivot(index=columns_to_join_results, columns='grid', values=our_method).reset_index().rename(columns_name_mapping, axis='columns')"
   ]
  },
  {
   "cell_type": "code",
   "execution_count": null,
   "id": "95d67530-ee24-4006-9117-08e406ce43bf",
   "metadata": {},
   "outputs": [],
   "source": [
    "all_methods = [\n",
    "    'RMD',\n",
    "    'RMD l2 norm',\n",
    "    'MD',\n",
    "     'MD l2 norm',\n",
    "     'RDE',\n",
    "     'RDE l2 norm',\n",
    "     'SR',\n",
    "     'AdUE (OUR)',\n",
    "     'Loss: BCE',\n",
    "     'A: BCE+L2SP',\n",
    "     'A: BCE+reg',\n",
    "     'A: BCE+reg+L2SP',\n",
    "     'A: rand cls',\n",
    "     'A: random linear'\n",
    "]\n",
    "\n",
    "main_table_methods = [\n",
    "    # 'RMD',\n",
    "    'RMD l2 norm',\n",
    "    # 'MD',\n",
    "    'MD l2 norm',\n",
    "    # 'RDE',\n",
    "    'RDE l2 norm',\n",
    "    'SR',\n",
    "    'AdUE (OUR)',\n",
    "]\n",
    "\n",
    "ablation_methods = [\n",
    "    'AdUE (OUR)',\n",
    "    'Loss: BCE',\n",
    "    'Loss: BCE+L2SP',\n",
    "    'Loss: BCE+reg',\n",
    "    # 'Loss: BCE+reg+L2SP',\n",
    "    'Full loss + rand cls',\n",
    "    'Full loss + random linear',\n",
    "]"
   ]
  },
  {
   "cell_type": "code",
   "execution_count": null,
   "id": "84442fcf-6d7c-4b9d-b082-8f2d2cb9a984",
   "metadata": {},
   "outputs": [],
   "source": [
    "pd.set_option('display.max_columns', None)\n",
    "pd.set_option('display.max_rows', None)"
   ]
  },
  {
   "cell_type": "code",
   "execution_count": null,
   "id": "9a0d6034-5b3e-4b1c-a1dd-0ebf84fc8788",
   "metadata": {},
   "outputs": [],
   "source": [
    "result_with_baselines = all_baselines.set_index(columns_to_join_results).join(all_dfs.set_index(columns_to_join_results))"
   ]
  },
  {
   "cell_type": "code",
   "execution_count": null,
   "id": "62ff1b52-99c0-47e8-9cdb-0a444d253187",
   "metadata": {},
   "outputs": [],
   "source": [
    "def modify_cells_with_mask(df, mask, modification_func, inplace=False):\n",
    "    \"\"\"\n",
    "    Modify DataFrame cells where mask is True using a modification function.\n",
    "    \n",
    "    Args:\n",
    "        df: pandas DataFrame\n",
    "        mask: Boolean mask (same shape as df) indicating cells to modify\n",
    "        modification_func: Function to apply to each selected cell\n",
    "        inplace: Whether to modify the original DataFrame\n",
    "        \n",
    "    Returns:\n",
    "        Modified DataFrame (if inplace=False) or None (if inplace=True)\n",
    "    \"\"\"\n",
    "    if not inplace:\n",
    "        df = df.copy()\n",
    "    \n",
    "    # Apply modification only where mask is True\n",
    "    for col in df.columns:\n",
    "        for idx in df.index:\n",
    "            if mask.loc[idx, col]:\n",
    "                df.at[idx, col] = modification_func(df.at[idx, col])\n",
    "    \n",
    "    return None if inplace else df"
   ]
  },
  {
   "cell_type": "code",
   "execution_count": null,
   "id": "0f4d16fe-bcc4-4707-9473-388665ec5618",
   "metadata": {},
   "outputs": [],
   "source": [
    "def get_mean_std_table(df, methods):\n",
    "    df = df.loc[:, methods]\n",
    "    mean_values = df.groupby(columns_to_gb).agg('mean').T\n",
    "    std_values = df.groupby(columns_to_gb).agg('std').T\n",
    "\n",
    "    rank_table = mean_values.rank(axis='rows', ascending=False)\n",
    "    cols = pd.MultiIndex.from_product([['Rank'],['Rank']])\n",
    "    mean_rank = pd.DataFrame(rank_table.mean(axis=1), columns=cols)\n",
    "    mean_rank_str = mean_rank.astype(str)\n",
    "    mean_rank_rank = mean_rank.rank(axis='rows', ascending=True)\n",
    "\n",
    "    mean_values_str = (mean_values * 100).round(1).astype(str)\n",
    "    std_values_str = (std_values * 100).round(1).astype(str)\n",
    "\n",
    "    str_df = mean_values_str + '±' + std_values_str\n",
    "    str_df = modify_cells_with_mask(str_df, rank_table==1, lambda x: f'\\\\textbf{{{x}}}')\n",
    "    str_df = modify_cells_with_mask(str_df, rank_table==2, lambda x: f'\\\\underline{{{x}}}')\n",
    "    \n",
    "    mean_rank_str = modify_cells_with_mask(mean_rank_str, mean_rank_rank==1, lambda x: f'\\\\textbf{{{x}}}')\n",
    "    mean_rank_str = modify_cells_with_mask(mean_rank_str, mean_rank_rank==2, lambda x: f'\\\\underline{{{x}}}')\n",
    "    f = pd.concat((str_df, mean_rank_str), axis='columns')\n",
    "    \n",
    "    return f.loc[methods].to_latex(escape=False, column_format='c' * (len(f.columns) + 1)).replace('AdUE (OUR)', '\\\\textbf{{AdUE (OUR)}}')"
   ]
  },
  {
   "cell_type": "code",
   "execution_count": null,
   "id": "4a364b9e-72d3-4e33-9466-ff6fe2d54c7b",
   "metadata": {
    "scrolled": true
   },
   "outputs": [],
   "source": [
    "print(get_mean_std_table(result_with_baselines.loc[['Roberta', 'Electra']], main_table_methods))"
   ]
  },
  {
   "cell_type": "code",
   "execution_count": null,
   "id": "26f7f758-84fe-4391-9a28-73b874770e69",
   "metadata": {},
   "outputs": [],
   "source": [
    "print(get_mean_std_table(result_with_baselines.loc[['LLama', 'Qwen']], main_table_methods))"
   ]
  },
  {
   "cell_type": "code",
   "execution_count": null,
   "id": "af6d2ac3-d173-4399-adc0-93746026f100",
   "metadata": {},
   "outputs": [],
   "source": [
    "print(get_mean_std_table(result_with_baselines.loc[['Roberta', 'Electra']], ablation_methods))"
   ]
  },
  {
   "cell_type": "code",
   "execution_count": null,
   "id": "988266b6-cf07-4f08-b246-a93a74c46ec2",
   "metadata": {},
   "outputs": [],
   "source": [
    "print(get_mean_std_table(result_with_baselines.loc[['LLama', 'Qwen']], ablation_methods))"
   ]
  },
  {
   "cell_type": "code",
   "execution_count": null,
   "id": "94e0e6ee-ee99-4e0f-ae16-d82770dadf34",
   "metadata": {},
   "outputs": [],
   "source": [
    "# def get_rank_mean(df, methods):\n",
    "#     df = df.loc[:, methods]\n",
    "#     mean_values = df.groupby(columns_to_gb).agg('mean').T\n",
    "#     std_values = df.groupby(columns_to_gb).agg('std').T\n",
    "\n",
    "#     rank_table = mean_values.rank(axis='rows', ascending=False)\n",
    "#     cols = pd.MultiIndex.from_product([['Rank'],['Rank']])\n",
    "#     mean_rank = pd.DataFrame(rank_table.mean(axis=1), columns=cols)\n",
    "#     mean_rank_str = mean_rank.astype(str)\n",
    "#     mean_rank_rank = mean_rank.rank(axis='rows', ascending=True)\n",
    "\n",
    "#     mean_values_str = (mean_values * 100).round(1).astype(str)\n",
    "#     std_values_str = (std_values * 100).round(1).astype(str)\n",
    "\n",
    "#     str_df = mean_values_str + '±' + std_values_str\n",
    "#     str_df = modify_cells_with_mask(str_df, rank_table==1, lambda x: f'\\\\textbf{{{x}}}')\n",
    "#     str_df = modify_cells_with_mask(str_df, rank_table==2, lambda x: f'\\\\underline{{{x}}}')\n",
    "    \n",
    "#     mean_rank_str = modify_cells_with_mask(mean_rank_str, mean_rank_rank==1, lambda x: f'\\\\textbf{{{x}}}')\n",
    "#     mean_rank_str = modify_cells_with_mask(mean_rank_str, mean_rank_rank==2, lambda x: f'\\\\underline{{{x}}}')\n",
    "    \n",
    "#     f = pd.concat((str_df, mean_rank_str), axis='columns')\n",
    "    \n",
    "#     return f.loc[methods].to_latex(escape=False, column_format='c' * (len(f.columns) + 1)).replace('AdUE (OUR)', '\\\\textbf{{AdUE (OUR)}}')"
   ]
  }
 ],
 "metadata": {
  "kernelspec": {
   "display_name": "Python 3 (ipykernel)",
   "language": "python",
   "name": "python3"
  },
  "language_info": {
   "codemirror_mode": {
    "name": "ipython",
    "version": 3
   },
   "file_extension": ".py",
   "mimetype": "text/x-python",
   "name": "python",
   "nbconvert_exporter": "python",
   "pygments_lexer": "ipython3",
   "version": "3.11.0rc1"
  }
 },
 "nbformat": 4,
 "nbformat_minor": 5
}
